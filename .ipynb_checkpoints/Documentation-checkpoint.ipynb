{
 "cells": [
  {
   "cell_type": "markdown",
   "metadata": {},
   "source": [
    "# Overview"
   ]
  },
  {
   "cell_type": "markdown",
   "metadata": {},
   "source": [
    "There are 3 classes:\n",
    "\n",
    "**1. QuantumAlgorithms - higher-level functions with quantum computations which are built on pennylane library**\n",
    "\n",
    "    - U_n()\n",
    "    - C_U_n()\n",
    "    - ADDER\n",
    "    - ADDER_MOD()\n",
    "    - Controlled_MULT_MOD()\n",
    "    - MODULAR_EXPONENTIATION()\n",
    "    - QFT()\n",
    "    - Phase_Estimation()\n",
    "    \n",
    "**2. QuantumGates - simpler functions with quantum computations which are built on pennylane library**\n",
    "\n",
    "    - T_dagger()\n",
    "    - Toffoli()\n",
    "    - Controlled_Toffoli()\n",
    "    - SWAP()\n",
    "    - Controlled_SWAP()\n",
    "    - Controlled_Controlled_SWAP()\n",
    "    - Controlled_register_SWAP()\n",
    "    - Controlled_reset_zero_register_to_N()\n",
    "    - CARRY()\n",
    "    - SUM()\n",
    "    - Controlled_U_block()\n",
    "    - CR_k()\n",
    "    - C_U()\n",
    "    - gray_code_C_X()\n",
    "    - Two_level_U()\n",
    "    - controlled_Two_level_U()\n",
    "\n",
    "**3. ClassicalOperations - auxiliary functions without quantum computations**\n",
    "\n",
    "    - check_matrix()\n",
    "    - states_vector()\n",
    "    - int_to_binary_array()\n",
    "    - get_non_trivial_indices()\n",
    "    - Gray_code()\n",
    "    - gcd()\n",
    "    - diophantine_equation_auxiliary()\n",
    "    - diophantine_equation()\n",
    "    - modular_multiplicative_inverse()\n",
    "    - matrix_power()\n",
    "    - matrix_natural_power()\n",
    "    - ZY_decomposition_angles()\n",
    "    - U_given_ZY_angles()\n",
    "    - Two_level_unitary_decomposition()\n",
    "    - matrix_natural_power()\n",
    "    - ZY_decomposition_angles()\n"
   ]
  },
  {
   "cell_type": "markdown",
   "metadata": {},
   "source": [
    "# Example"
   ]
  },
  {
   "cell_type": "markdown",
   "metadata": {},
   "source": [
    "Functions from the class can be used in the same way as elementary gates inside pennylane's QNode structure. The script below implements the following 4-qubit quantum circuit"
   ]
  },
  {
   "cell_type": "code",
   "execution_count": null,
   "metadata": {},
   "outputs": [],
   "source": []
  },
  {
   "cell_type": "code",
   "execution_count": null,
   "metadata": {},
   "outputs": [],
   "source": []
  },
  {
   "cell_type": "markdown",
   "metadata": {},
   "source": [
    "# Functions from QuantumAlgorithms class"
   ]
  },
  {
   "cell_type": "markdown",
   "metadata": {},
   "source": [
    "### **QuantumAlgorithms.U_n(U, wires)**\n",
    "\n",
    "\n",
    "U_circuit is a realization of arbitrary unitary gate specified by the arbitrary matrix U.\n",
    "\n",
    "Workings of U_circuit() function are motivated by Nielsen, Chuang, chapter 4.5, and can be illustrated by the following scheme:\n",
    "\n",
    "<img src=\"Schemes/Scheme.png\" width=1200 height=1200 />\n",
    "\n",
    "On this scheme,\n",
    "- $\\color{orange}{\\text{orange dotted frame}}$ denotes a gate type which is implemented via one of the functions of the class from the list \"Functions **with quantum computations**\" above\n",
    "- $\\color{blue}{\\text{blue dotted frame}}$ denotes a gate type which is implemented via standard **pennylane library**\n",
    "\n",
    "As one can see, arbitrary unitary gate U is realized by elementary single-qubit rotation operations **RZ, RY, Phase Shift** and two-qubit **CNOT** operation\n",
    "\n",
    "Current **maximal number of qubits** for which operations from the class can be implemented is **6 qubits**. Note that no work qubits are used in any of the functions from the class. It essentially means that, for instance, 6-qubit operation can be performed using only these 6 qubits and no additional work qubits.\n",
    "\n",
    "1. **Parameters**\n",
    "    - U - unitary matrix to act on qubits in wires. Current maximal number of gates is 6.\n",
    "2. **Returns**:\n",
    "    - system after U acts on"
   ]
  },
  {
   "cell_type": "code",
   "execution_count": null,
   "metadata": {},
   "outputs": [],
   "source": []
  },
  {
   "cell_type": "markdown",
   "metadata": {},
   "source": [
    "### **QuantumAlforithms.C_U_n(U,control_wire,operation_wires)**\n",
    "\n",
    "Controlled version of QuantumAlgorithms.U_n(), up to n = 5 wires in operation_wires\n",
    "\n",
    "1. **Parameters**\n",
    "    - U - (2^n)x(2^n) arbitrary unitary matrix U, where n = len(operation_wires)\n",
    "    - control_wire\n",
    "    - operation_wires\n",
    "2. **Returns**:\n",
    "    - control_wire\n",
    "    - operation_wires"
   ]
  },
  {
   "cell_type": "code",
   "execution_count": null,
   "metadata": {},
   "outputs": [],
   "source": []
  },
  {
   "cell_type": "markdown",
   "metadata": {},
   "source": [
    "### **QuantumAlgorithms.ADDER(wires_a,wires_b,wires_c,inverse=False)**\n",
    "\n",
    "ADDER is a circuit which implements addition for classical inputs (i.e. 0s or 1s in a qubit registers)\n",
    "\n",
    "Workings of ADDER function are motivated by ‘Quantum Networks for Elementary Arithmetic Operations’ – Vedral, Barenco, Ekert, 1995, and can be illustrated by the following scheme:\n",
    "\n",
    "<img src=\"Schemes/2.png\" width=1200 height=1200 />\n",
    "\n",
    "More elaborate description: https://quantumcomputing.stackexchange.com/questions/6842/is-there-a-simple-formulaic-way-to-construct-a-modular-exponentiation-circuit\n",
    "\n",
    "1. **Parameters**\n",
    "    - wires_a - names for wires of register of \"number\" a to be added\n",
    "    - wires_b - names for wires of register of \"number\" b to be added\n",
    "    - wires_c - names for wires of register of zeros\n",
    "    - inverse - if passed False, then circuit from the scheme is implemented; if passed True, then circuit with inverse order of all elementary operations with respect to the circuit from the scheme is implemented\n",
    "\n",
    "2. **Returns**:\n",
    "    - \"number\" a in register wires_a\n",
    "    - \"number\" a+b in register wires_b\n",
    "    - zeros in register wires_c"
   ]
  },
  {
   "cell_type": "code",
   "execution_count": null,
   "metadata": {},
   "outputs": [],
   "source": []
  },
  {
   "cell_type": "markdown",
   "metadata": {},
   "source": [
    "### **QuantumAlgorithms.ADDER_MOD(wires_a,wires_b,wires_c,wires_N,wires_t,N,inverse=False)**\n",
    "\n",
    "ADDER_MOD is a circuit which implements modular addition for classical inputs (i.e. 0s or 1s in a qubit registers). Circuit works as addition of a and b modulo N only if **0 <= a,b <N**\n",
    "\n",
    "Workings of ADDER_MOD function are motivated by ‘Quantum Networks for Elementary Arithmetic Operations’ – Vedral, Barenco, Ekert, 1995, and can be illustrated by the following scheme:\n",
    "\n",
    "<img src=\"Schemes/3.png\" width=1200 height=1200 />\n",
    "\n",
    "More elaborate description: https://quantumcomputing.stackexchange.com/questions/6842/is-there-a-simple-formulaic-way-to-construct-a-modular-exponentiation-circuit\n",
    "\n",
    "1. **Parameters**\n",
    "    - wires_a - names for wires of register of \"number\" a to be added modulo N\n",
    "    - wires_b - names for wires of register of \"number\" b to be added modulo N\n",
    "    - wires_c - names for wires of register c initialized with zeros\n",
    "    - wires_N - names for wires of register of \"number\" N\n",
    "    - wires_t - name for auxiliary control wire of register t\n",
    "2. **Returns**:\n",
    "    - \"number\" a in register wires_a\n",
    "    - \"number\" a+b mod N in register wires_b\n",
    "    - zeros in register wires_c\n",
    "    - \"number\" N in register wires_N\n",
    "    - zero in register wires_t"
   ]
  },
  {
   "cell_type": "code",
   "execution_count": null,
   "metadata": {},
   "outputs": [],
   "source": []
  },
  {
   "cell_type": "markdown",
   "metadata": {},
   "source": [
    "### **QuantumAlgorithms.Controlled_MULT_MOD(control_wire,wires_z,wires_a,wires_b,wires_c,wires_N,wires_t,N,m,inverse=False)**\n",
    "\n",
    "Controlled_MULT_MOD is a circuit which implements controlled modular multiplication for classical inputs (i.e. 0s or 1s in a qubit registers).\n",
    "\n",
    "Workings of Controlled_MULT_MOD function are motivated by ‘Quantum Networks for Elementary Arithmetic Operations’ – Vedral, Barenco, Ekert, 1995, and can be illustrated by the following scheme:\n",
    "\n",
    "<img src=\"Schemes/4.png\" width=1200 height=1200 />\n",
    "\n",
    "More elaborate description: https://quantumcomputing.stackexchange.com/questions/6842/is-there-a-simple-formulaic-way-to-construct-a-modular-exponentiation-circuit\n",
    "\n",
    "1. **Parameters**\n",
    "    - control_wire - name for control wire\n",
    "    - wires_z - names for wires of register of \"number\" z to be multiplied by m modulo N\n",
    "    - wires_a - names for auxiliary wires of register a initialized with zeros\n",
    "    - wires_b - names for auxiliary wires of register of b initialized with zeros\n",
    "    - wires_c - names for auxiliary wires of register c initialized with zeros\n",
    "    - wires_N - names for wires of register of \"number\" N\n",
    "    - wires_t - name for auxiliary control wire of register t\n",
    "    - N - number \"modulo\"\n",
    "    - m - multiplier\n",
    "    - inverse - if passed False, then circuit from the scheme is implemented; if passed True, then circuit with inverse order of all elementary operations with respect to the circuit from the scheme is implemented\n",
    "2. **Returns**:\n",
    "    - control_wire - initially passed control\n",
    "    - wires_z - initially passed z\n",
    "    - wires_a - initially passed zeros\n",
    "    - wires_b - z*m mod N\n",
    "    - wires_c - initially passed zeros\n",
    "    - wires_N - initially passed N\n",
    "    - wires_t - initially passed auxiliary control\n",
    "    "
   ]
  },
  {
   "cell_type": "code",
   "execution_count": null,
   "metadata": {},
   "outputs": [],
   "source": []
  },
  {
   "cell_type": "markdown",
   "metadata": {},
   "source": [
    "### **QuantumAlgorithms.MODULAR_EXPONENTIATION(wires_x,wires_z,wires_a,wires_b,wires_c,wires_N,wires_t,N,y,inverse=False)**\n",
    "\n",
    "MODULAR_EXPONENTIATION is a circuit which implements effective O(n^3) modular exponentiation for classical inputs (i.e. 0s or 1s in a qubit registers).\n",
    "\n",
    "Workings of MODULAR_EXPONENTIATION function are motivated by ‘Quantum Networks for Elementary Arithmetic Operations’ – Vedral, Barenco, Ekert, 1995, and can be illustrated by the following scheme:\n",
    "\n",
    "<img src=\"Schemes/5.png\" width=1200 height=1200 />\n",
    "\n",
    "More elaborate description: https://quantumcomputing.stackexchange.com/questions/6842/is-there-a-simple-formulaic-way-to-construct-a-modular-exponentiation-circuit\n",
    "\n",
    "1. **Parameters**\n",
    "    - wires_x - name for wires with \"number\" x to be \"number\" y's power\n",
    "    - wires_z - names for wires of register initialized with \"number\" 1\n",
    "    - wires_a - names for auxiliary wires of register a initialized with zeros\n",
    "    - wires_b - names for auxiliary wires of register of b initialized with zeros\n",
    "    - wires_c - names for auxiliary wires of register c initialized with zeros\n",
    "    - wires_N - names for wires of register of \"number\" N\n",
    "    - wires_t - name for auxiliary control wire of register t\n",
    "    - N - number \"modulo\"\n",
    "    - y - number to be exponentiated to the power x\n",
    "    - inverse - if passed False, then circuit from the scheme is implemented; if passed True, then circuit with inverse order of all elementary operations with respect to the circuit from the scheme is implemented\n",
    "2. **Returns**:\n",
    "    - control_x - initially passed x\n",
    "    - wires_z - y^x mod N\n",
    "    - wires_a - initially passed zeros\n",
    "    - wires_b - initially passed zeros\n",
    "    - wires_c - initially passed zeros\n",
    "    - wires_N - initially passed N\n",
    "    - wires_t - initially passed auxiliary control\n",
    "    "
   ]
  },
  {
   "cell_type": "code",
   "execution_count": null,
   "metadata": {},
   "outputs": [],
   "source": []
  },
  {
   "cell_type": "markdown",
   "metadata": {},
   "source": [
    "### **QuantumAlgorithms.QFT(wires,inverse=False)**\n",
    "\n",
    "QFT is a circuit which implements quantum Fourier transform - see Nielsen Chuang p.219\n",
    "\n",
    "<img src=\"Schemes/6.png\" width=1200 height=1200 />\n",
    "\n",
    "1. **Parameters**\n",
    "    - wires\n",
    "    - inverse - if passed False, then circuit from the scheme is implemented; if passed True, then circuit with R_k_dagger instead of R_k is implemented, i.e. inverse quantum Fourier transform\n",
    "2. **Returns**:\n",
    "    - qubits, tensor product of which is a Fourier transform of j encoded as 0.j1j2j3..jn"
   ]
  },
  {
   "cell_type": "code",
   "execution_count": null,
   "metadata": {},
   "outputs": [],
   "source": []
  },
  {
   "cell_type": "markdown",
   "metadata": {},
   "source": [
    "### **QuantumAlgorithms.Phase_Estimation(U,t,wires)**\n",
    "\n",
    "Phase_Estimation is a circuit which implements general Phase estimation procedure using arbitrary (up to 5-qubits) unitary operation U - see Nielsen Chuang p.221\n",
    "\n",
    "This realization of Phase estimation is not efficient (exponential) since it uses elements with controlled arbitrary unitary transformation\n",
    "\n",
    "<img src=\"Schemes/7.png\" width=500 height=500 />\n",
    "\n",
    "1. **Parameters**\n",
    "    - U - unitary matrix\n",
    "    - t number such that the output of the measurement is an approximation to ϕ accurate to t − round_up(log(2+1/2*epsilon)) bits with probability of success at least 1 − epsilon.\n",
    "    - wires\n",
    "2. **Returns**:\n",
    "    - wires (not measured)"
   ]
  },
  {
   "cell_type": "code",
   "execution_count": null,
   "metadata": {},
   "outputs": [],
   "source": []
  },
  {
   "cell_type": "code",
   "execution_count": null,
   "metadata": {},
   "outputs": [],
   "source": []
  },
  {
   "cell_type": "markdown",
   "metadata": {},
   "source": [
    "# Functions from QuantumGates class"
   ]
  },
  {
   "cell_type": "markdown",
   "metadata": {},
   "source": [
    "### **QuantumGates.T_dagger(wires)**\n",
    "\n",
    "Implements T_dagger (conjugate transform of T)\n",
    "\n",
    "<img src=\"Schemes/T_dagger.png\" width=1000 height=1000 />\n",
    "\n",
    "1. **Parameters**\n",
    "    - wires\n",
    "2. **Returns**:\n",
    "    - wires"
   ]
  },
  {
   "cell_type": "code",
   "execution_count": null,
   "metadata": {},
   "outputs": [],
   "source": []
  },
  {
   "cell_type": "markdown",
   "metadata": {},
   "source": [
    "### **QuantumGates.Toffoli(wires)**\n",
    "\n",
    "Implements Toffoli gate\n",
    "\n",
    "<img src=\"Schemes/Toffoli.png\" width=1000 height=1000 />\n",
    "\n",
    "1. **Parameters**\n",
    "    - wires\n",
    "2. **Returns**:\n",
    "    - wires"
   ]
  },
  {
   "cell_type": "code",
   "execution_count": null,
   "metadata": {},
   "outputs": [],
   "source": []
  },
  {
   "cell_type": "markdown",
   "metadata": {},
   "source": [
    "### **QuantumGates.Controlled_Toffoli(control_wires,operation_wire,work_wire)**\n",
    "\n",
    "Implements modified Toffoli gate with 3 controls instead of 2. Requires 1 additional work qubit\n",
    "\n",
    "<img src=\"Schemes/Controlled_Toffoli.png\" width=1000 height=1000 />\n",
    "\n",
    "1. **Parameters**\n",
    "    - control_wires\n",
    "    - operation_wire\n",
    "    - work_wire with zero\n",
    "2. **Returns**:\n",
    "    - control_wires\n",
    "    - operation_wire\n",
    "    - work_wire with zero"
   ]
  },
  {
   "cell_type": "code",
   "execution_count": null,
   "metadata": {},
   "outputs": [],
   "source": []
  },
  {
   "cell_type": "markdown",
   "metadata": {},
   "source": [
    "### **QuantumGates.SWAP(wires)**\n",
    "\n",
    "Implements standard 2-wires SWAP-gate\n",
    "\n",
    "<img src=\"Schemes/SWAP.png\" width=700 height=700 />\n",
    "\n",
    "1. **Parameters**\n",
    "    - wires\n",
    "2. **Returns**:\n",
    "    - wires"
   ]
  },
  {
   "cell_type": "code",
   "execution_count": null,
   "metadata": {},
   "outputs": [],
   "source": []
  },
  {
   "cell_type": "markdown",
   "metadata": {},
   "source": [
    "### **QuantumGates.Controlled_SWAP(control_wire,swap_wires)**\n",
    "\n",
    "Implements 2-wires SWAP conditional on 1-wire control\n",
    "\n",
    "<img src=\"Schemes/Controlled_SWAP.png\" width=700 height=700 />\n",
    "\n",
    "1. **Parameters**\n",
    "    - control_wire\n",
    "    - swap_wires\n",
    "2. **Returns**:\n",
    "    - control_wire\n",
    "    - swap_wires"
   ]
  },
  {
   "cell_type": "code",
   "execution_count": null,
   "metadata": {},
   "outputs": [],
   "source": []
  },
  {
   "cell_type": "markdown",
   "metadata": {},
   "source": [
    "### **QuantumGates.Controlled_Controlled_SWAP(control_wires,swap_wires,work_wire)**\n",
    "\n",
    "Implements 2-wires SWAP conditional on 2-wires controls. Requires 1 work qubit, because it uses Controlled_Toffoli\n",
    "\n",
    "<img src=\"Schemes/Controlled_Controlled_SWAP.png\" width=700 height=700 />\n",
    "\n",
    "1. **Parameters**\n",
    "    - control_wires\n",
    "    - swap_wires\n",
    "    - work_wire\n",
    "2. **Returns**:\n",
    "    - control_wires\n",
    "    - swap_wires\n",
    "    - work_wire"
   ]
  },
  {
   "cell_type": "code",
   "execution_count": null,
   "metadata": {},
   "outputs": [],
   "source": []
  },
  {
   "cell_type": "markdown",
   "metadata": {},
   "source": [
    "### **QuantumGates.Controlled_register_SWAP(control_wire,wires_register_1,wires_register_2)**\n",
    "\n",
    "Implements SWAP for 2 n-wires register conditional on 1-wire control\n",
    "\n",
    "<img src=\"Schemes/Controlled_register_SWAP.png\" width=700 height=700 />\n",
    "\n",
    "1. **Parameters**\n",
    "    - control_wire\n",
    "    - wires_register_1\n",
    "    - wires_register_2\n",
    "2. **Returns**:\n",
    "    - control_wire\n",
    "    - wires_register_1\n",
    "    - wires_register_2"
   ]
  },
  {
   "cell_type": "code",
   "execution_count": null,
   "metadata": {},
   "outputs": [],
   "source": []
  },
  {
   "cell_type": "markdown",
   "metadata": {},
   "source": [
    "### **QuantumGates.Controlled_reset_zero_register_to_N(control_wire,wires_zero_register,N)**\n",
    "\n",
    "Implements resetting register with zeros to binary representation of classicaly known number N conditional on 1-wire control. If control == 1, then resulting values in the wires_zero_register are [N_0, N_1, ... , N_(n-1)], where N = N_(n-1) * 2^(n-1) + ... + N_1 * 2^1 + N_0 * 2^0\n",
    "\n",
    "1. **Parameters**\n",
    "    - control_wire\n",
    "    - wires_zero_register with zero\n",
    "    - N - number to be put into wires_zero_register\n",
    "2. **Returns**:\n",
    "    - control_wire\n",
    "    - wires_zero_register with binary representation of N"
   ]
  },
  {
   "cell_type": "code",
   "execution_count": null,
   "metadata": {},
   "outputs": [],
   "source": []
  },
  {
   "cell_type": "markdown",
   "metadata": {},
   "source": [
    "### **QuantumGates.CARRY(wires,inverse=False)**\n",
    "\n",
    "Implements 4-wires carry operation used for ADDER\n",
    "\n",
    "Setup:\n",
    "wires[0] = c_i, wires[1] = a_i, wires[2] = b_i, wires[3] = c_(i+1) = |0>. Operation carries |1> in wires[3] = c_(i+1) if c_i + a_i + b_i > 1\n",
    "\n",
    "Based on Vedral, Barenco, Ekert - \"Quantum Networks for Elementary Arithmetic Operations\", 1996\n",
    "\n",
    "<img src=\"Schemes/CARRY.png\" width=700 height=700 />\n",
    "\n",
    "1. **Parameters**\n",
    "    - wires\n",
    "    - inverse - if passed False, then circuit from the scheme is implemented; if passed True, then circuit with inverse order of all elementary operations with respect to the circuit from the scheme is implemented\n",
    "2. **Returns**:\n",
    "    - wires"
   ]
  },
  {
   "cell_type": "code",
   "execution_count": null,
   "metadata": {},
   "outputs": [],
   "source": []
  },
  {
   "cell_type": "markdown",
   "metadata": {},
   "source": [
    "### **QuantumGates.SUM(wires,inverse=False)**\n",
    "\n",
    "Implements 3-wires sum operation used for ADDER\n",
    "\n",
    "Setup:\n",
    "wires[0] = a, wires[1] = b, wires[2] = |0>. Operation makes wires[2] = a+b mod 2\n",
    "\n",
    "Based on Vedral, Barenco, Ekert - \"Quantum Networks for Elementary Arithmetic Operations\", 1996\n",
    "\n",
    "<img src=\"Schemes/SUM.png\" width=700 height=700 />\n",
    "\n",
    "1. **Parameters**\n",
    "    - wires\n",
    "    - inverse - if passed False, then circuit from the scheme is implemented; if passed True, then circuit with inverse order of all elementary operations with respect to the circuit from the scheme is implemented\n",
    "2. **Returns**:\n",
    "    - wires"
   ]
  },
  {
   "cell_type": "code",
   "execution_count": null,
   "metadata": {},
   "outputs": [],
   "source": []
  },
  {
   "cell_type": "markdown",
   "metadata": {},
   "source": [
    "### **QuantumGates.Controlled_U_block(alpha,beta,gamma,delta,delta_plus_beta,delta_minus_beta,wires)**\n",
    "\n",
    "Implements controlled-U with 1 control and 1 operation wire, given angles (alpha, beta, gamma, delta) from ZY-decomposition of 2x2 unitary U\n",
    "\n",
    "<img src=\"Schemes/Controlled_U_block.png\" width=700 height=700 />\n",
    "\n",
    "1. **Parameters**\n",
    "    - alpha - angle from ZY-decomposition\n",
    "    - beta - angle from ZY-decomposition\n",
    "    - gamma - angle from ZY-decomposition\n",
    "    - delta - angle from ZY-decomposition\n",
    "    - delta_plus_beta = delta + beta\n",
    "    - delta_minus_beta = delta - beta\n",
    "    - wires\n",
    "2. **Returns**:\n",
    "    - wires"
   ]
  },
  {
   "cell_type": "code",
   "execution_count": null,
   "metadata": {},
   "outputs": [],
   "source": []
  },
  {
   "cell_type": "markdown",
   "metadata": {},
   "source": [
    "### **QuantumGates.CR_k(control_wire,operation_wire,inverse=False)**\n",
    "\n",
    "Implements 2-qubit controlled R_k - phase shift gate which is used in QFT.\n",
    "\n",
    "R_k has matrix form [[1,0                   ],\n",
    " [0,exp(2*pi*i / (2^k))]]\n",
    "\n",
    "If inverse == True, then the function implements 2-qubit controlled R_k_dagger - phase shift gate which is used in inverse QFT\n",
    "R_k_dagger has matrix form [[1,0                    ],\n",
    " [0,exp(-2*pi*i / (2^k))]]\n",
    "\n",
    "1. **Parameters**\n",
    "    - control_wire\n",
    "    - operation_wire\n",
    "    - inverse - if passed False, then CR_k is implemented; if passed True, conjugate transpose of CR_k is implemented\n",
    "2. **Returns**:\n",
    "    - control_wire\n",
    "    - operation_wire"
   ]
  },
  {
   "cell_type": "code",
   "execution_count": null,
   "metadata": {},
   "outputs": [],
   "source": []
  },
  {
   "cell_type": "markdown",
   "metadata": {},
   "source": [
    "### **QuantumGates.C_U(U,control_wires,operation_wire)**\n",
    "\n",
    "Implements C_n_U given arbitrary 2x2 U and arbitrary amount of control wires (up to n=5)\n",
    "\n",
    "<img src=\"Schemes/C_U.png\" width=1000 height=1000 />\n",
    "\n",
    "1. **Parameters**\n",
    "    - U - unitary 2x2 matrix\n",
    "    - control_wires\n",
    "    - operation_wire\n",
    "2. **Returns**:\n",
    "    - control_wires\n",
    "    - operation_wire"
   ]
  },
  {
   "cell_type": "code",
   "execution_count": null,
   "metadata": {},
   "outputs": [],
   "source": []
  },
  {
   "cell_type": "markdown",
   "metadata": {},
   "source": [
    "### **QuantumGates.gray_code_C_X(gray_code_element,changing_bit,wires)**\n",
    "\n",
    "Implements circuit block which corresponds to a binary string gray_code_element with (integer) index changing_bit of a changing bit - see Nielsen Chuang p.192\n",
    "\n",
    "Scheme is the example of gray_code_C_X circuit for gray_code_element = '010001' and changing_bit = 3\n",
    "\n",
    "<img src=\"Schemes/gray_code_C_X.png\" width=1000 height=1000 />\n",
    "\n",
    "1. **Parameters**\n",
    "    - gray_code_element - binary string\n",
    "    - changing_bit - int (index of wire to which cotrolled X operation is implemented)\n",
    "    - wires\n",
    "2. **Returns**:\n",
    "    - wires"
   ]
  },
  {
   "cell_type": "code",
   "execution_count": null,
   "metadata": {},
   "outputs": [],
   "source": []
  },
  {
   "cell_type": "markdown",
   "metadata": {},
   "source": [
    "### **QuantumGates.Two_level_U(U,non_trivial_indices,wires)**\n",
    "\n",
    "Implements (2^n)x(2^n) two-level unitary matrix U circuit, where n = len(wires). This is a building block for arbitrary unitary U operation circuit QuantumAlgorithms.U_n().\n",
    "\n",
    "1. **Parameters**\n",
    "    - U - (2^n)x(2^n) two-level unitary matrix U, where n = len(wires)\n",
    "    - non_trivial_indices - pair of integer indices which denote non-trivial entries in U\n",
    "    - wires\n",
    "2. **Returns**:\n",
    "    - wires"
   ]
  },
  {
   "cell_type": "code",
   "execution_count": null,
   "metadata": {},
   "outputs": [],
   "source": []
  },
  {
   "cell_type": "markdown",
   "metadata": {},
   "source": [
    "### **QuantumGates.controlled_Two_level_U(U,non_trivial_indices,control_wire,operation_wires)**\n",
    "\n",
    "Controlled version of QuantumGates.Two_level_U(), with 1 control\n",
    "\n",
    "1. **Parameters**\n",
    "    - U - (2^n)x(2^n) two-level unitary matrix U, where n = len(wires)\n",
    "    - non_trivial_indices - pair of integer indices which denote non-trivial entries in U\n",
    "    - control_wire\n",
    "    - operation_wires\n",
    "2. **Returns**:\n",
    "    - control_wire\n",
    "    - operation_wires"
   ]
  },
  {
   "cell_type": "code",
   "execution_count": null,
   "metadata": {},
   "outputs": [],
   "source": []
  },
  {
   "cell_type": "code",
   "execution_count": null,
   "metadata": {},
   "outputs": [],
   "source": []
  },
  {
   "cell_type": "markdown",
   "metadata": {},
   "source": [
    "# Functions from ClassicalOperations class"
   ]
  },
  {
   "cell_type": "markdown",
   "metadata": {},
   "source": [
    "### **ClassicalOperations.check_matrix(U)**\n",
    "\n",
    "Checks if matrix U is in pennylane.Variable format and makes U proper format if necessary\n",
    "\n",
    "1. **Parameters**\n",
    "    - U - nxn matrix\n",
    "2. **Returns**:\n",
    "    - U - nxn matrix in a proper (dtype = 'complex128') format"
   ]
  },
  {
   "cell_type": "code",
   "execution_count": null,
   "metadata": {},
   "outputs": [],
   "source": []
  },
  {
   "cell_type": "markdown",
   "metadata": {},
   "source": [
    "### **ClassicalOperations.states_vector(wires)**\n",
    "\n",
    "Prints out list of states in a computational basis given wires list\n",
    "\n",
    "1. **Parameters**\n",
    "    - wires - list of wires in a circuit\n",
    "2. **Returns**:\n",
    "    - states_vector - list of strings in a form '|001..01>' corresponding to all possible computational basis states"
   ]
  },
  {
   "cell_type": "code",
   "execution_count": null,
   "metadata": {},
   "outputs": [],
   "source": []
  },
  {
   "cell_type": "markdown",
   "metadata": {},
   "source": [
    "### **ClassicalOperations.int_to_binary_array(n,reverse=False,bits=False)**\n",
    "\n",
    "Returns np.array with bitwise binary representation of a given number n\n",
    "\n",
    "1. **Parameters**\n",
    "    - n - integer number\n",
    "    - reverse - boolean; if option reverse=True reverses array so that the first bit is for 2^0 and the last is for 2^(k-1)\n",
    "    - bits - boolean or integer; if option bits is set to a number, then the length of resulting array is bits\n",
    "2. **Returns**:\n",
    "    - array of integer zeros and ones corresponding to a binary representation of a given number n"
   ]
  },
  {
   "cell_type": "code",
   "execution_count": null,
   "metadata": {},
   "outputs": [],
   "source": []
  },
  {
   "cell_type": "markdown",
   "metadata": {},
   "source": [
    "### **ClassicalOperations.get_non_trivial_indices(Two_level_U_list)**\n",
    "\n",
    "Returns list of pairs of indices of non-trivial entries in two-level matrices. List of two-level matrices should be passed to the function as an argument. Two-level matrices are from decomposition of unitary matrix into product of two-level matrices. See Nielsen Chuang p.189\n",
    "\n",
    "1. **Parameters**\n",
    "    - Two_level_U_list - list of two-level matrices\n",
    "2. **Returns**:\n",
    "    - list of pairs with indices of non-trivial entries in the matrices from Two_level_U_list"
   ]
  },
  {
   "cell_type": "code",
   "execution_count": null,
   "metadata": {},
   "outputs": [],
   "source": []
  },
  {
   "cell_type": "markdown",
   "metadata": {},
   "source": [
    "### **ClassicalOperations.Gray_code(a,b,n)**\n",
    "\n",
    "Creates list with Gray code and changing bits for every step given binary a and b, and numer n where n is a length of a binary string.\n",
    "\n",
    "1. **Parameters**\n",
    "    - a - str - start binary string\n",
    "    - b - str - end binary string\n",
    "    - n - integer - number of bits in a binary representation\n",
    "2. **Returns**:\n",
    "    - list [gray_code, changing_bit], where gray_code is a list of str binary steps of gray code and changing_bit is a list of changing bits for every respective step"
   ]
  },
  {
   "cell_type": "code",
   "execution_count": null,
   "metadata": {},
   "outputs": [],
   "source": []
  },
  {
   "cell_type": "markdown",
   "metadata": {},
   "source": [
    "### **ClassicalOperations.gcd(a,b)**\n",
    "\n",
    "Euclid's algorithm - finds greater common devider for integers a and b.\n",
    "\n",
    "Note: doesn't work correctly for too big numbers (because a%b and int(a/b) do not work).\n",
    "\n",
    "1. **Parameters**\n",
    "    - a - integer\n",
    "    - b - integer\n",
    "2. **Returns**:\n",
    "    - integer - greater common devider of a and b"
   ]
  },
  {
   "cell_type": "code",
   "execution_count": null,
   "metadata": {},
   "outputs": [],
   "source": []
  },
  {
   "cell_type": "markdown",
   "metadata": {},
   "source": [
    "### **ClassicalOperations.diophantine_equation_auxiliary(k_list,alpha,beta,i)**\n",
    "\n",
    "Auxiliary recursive function for finding alpha and beta in r_n = alpha * a + beta * b, where n: r_n = gcd(a,b)\n",
    "\n",
    "Algorithm should be initialized with alpha = 1, beta = -k_(n-2), i = n-2, where n: r_n = gcd(a,b). before algorithms' execution, array of k should be defined. i denotes level in Euclid's algorithm\n",
    "\n",
    "Note: doesn't work correctly for too big numbers (because a%b and int(a/b) do not work)\n",
    "\n",
    "1. **Parameters**\n",
    "    - k_list - list of integers, where k_list[i] is such that r_i = k_list[i] * r_(i+1) + r_(i+2), i.e. k_list is a result of forward part of solving diophantine_equation\n",
    "    - alpha - integer from recuersive representation of r_n = alpha*a + beta*b\n",
    "    - beta - integer from recuersive representation of r_n = alpha*a + beta*b\n",
    "    - i - integer - level in Euclid's algorithm\n",
    "2. **Returns**:\n",
    "    - list of two integers - [alpha,beta], which are for the next step of recursive algorithm"
   ]
  },
  {
   "cell_type": "code",
   "execution_count": null,
   "metadata": {},
   "outputs": [],
   "source": []
  },
  {
   "cell_type": "markdown",
   "metadata": {},
   "source": [
    "### **ClassicalOperations.diophantine_equation(a,b)**\n",
    "\n",
    "Solves diophantine equation, i.e. given a,b returns x,y such that ax + by = gcd(a,b)\n",
    "\n",
    "During the function's execution, in the forward part Euclid's algorithm produces set of values (k_i,r_i), where r_i = k_i * r_(i+1) + r_(i+2), i goes from 0 to n and then in the backward part algorithm uses recursive ClassicalOperations.diophantine_equation_auxiliary()\n",
    "\n",
    "Note: doesn't work correctly for too big numbers (because a%b and int(a/b) do not work)\n",
    "\n",
    "1. **Parameters**\n",
    "    - a - integer from ax + by = gcd(a,b)\n",
    "    - b - integer from ax + by = gcd(a,b)\n",
    "2. **Returns**:\n",
    "    - list of two integers - [x,y] from ax + by = gcd(a,b)"
   ]
  },
  {
   "cell_type": "code",
   "execution_count": null,
   "metadata": {},
   "outputs": [],
   "source": []
  },
  {
   "cell_type": "markdown",
   "metadata": {},
   "source": [
    "### **ClassicalOperations.modular_multiplicative_inverse(a,N)**\n",
    "\n",
    "Finds modular multiplicative inverse of a modulo N using diophantine_equation\n",
    "\n",
    "1. **Parameters**\n",
    "    - a - integer\n",
    "    - N - integer\n",
    "2. **Returns**:\n",
    "    - integer a^-1 such that a^-1 * a = 1 mod N"
   ]
  },
  {
   "cell_type": "code",
   "execution_count": null,
   "metadata": {},
   "outputs": [],
   "source": []
  },
  {
   "cell_type": "markdown",
   "metadata": {},
   "source": [
    "### **ClassicalOperations.matrix_power(U,power=1/2)**\n",
    "\n",
    "2x2 matrix to the custom power such that |power| < 1 using eigenvectors and eigenvalues\n",
    "\n",
    "1. **Parameters**\n",
    "    - U - 2x2 matrix\n",
    "    - power - float such that |power| < 1\n",
    "2. **Returns**:\n",
    "    - matrix U^power"
   ]
  },
  {
   "cell_type": "code",
   "execution_count": null,
   "metadata": {},
   "outputs": [],
   "source": []
  },
  {
   "cell_type": "markdown",
   "metadata": {},
   "source": [
    "### **ClassicalOperations.matrix_natural_power(U,power)**\n",
    "\n",
    "Arbitrary matrix to the natural power\n",
    "\n",
    "1. **Parameters**\n",
    "    - U - 2x2 matrix\n",
    "    - power - integer - natural number\n",
    "2. **Returns**:\n",
    "    - matrix U^power"
   ]
  },
  {
   "cell_type": "code",
   "execution_count": null,
   "metadata": {},
   "outputs": [],
   "source": []
  },
  {
   "cell_type": "markdown",
   "metadata": {},
   "source": [
    "### **ClassicalOperations.ZY_decomposition_angles(U)**\n",
    "\n",
    "Given 2x2 unitary matrix U, function returns angles alpha, beta, delta and gamma of ZY decomposition U = np.exp(1j * alpha) * RZ_beta.dot(RY_gamma).dot(RZ_delta)\n",
    "\n",
    "1. **Parameters**\n",
    "    - U - 2x2 unitary matrix\n",
    "2. **Returns**:\n",
    "    - dictionary {'alpha':alpha, 'beta':beta, 'delta':delta, 'gamma':gamma}"
   ]
  },
  {
   "cell_type": "code",
   "execution_count": null,
   "metadata": {},
   "outputs": [],
   "source": []
  },
  {
   "cell_type": "markdown",
   "metadata": {},
   "source": [
    "### **ClassicalOperations.U_given_ZY_angles(alpha,beta,gamma,delta)**\n",
    "\n",
    "Given angles of ZY decomposition, function returns corresponding 2x2 matrix U = np.exp(1j * alpha) * RZ_beta.dot(RY_gamma).dot(RZ_delta)\n",
    "\n",
    "1. **Parameters**\n",
    "    - alpha - float - \n",
    "    - beta\n",
    "    - delta\n",
    "    - gamma\n",
    "2. **Returns**:\n",
    "    - U = np.exp(1j * alpha) * RZ_beta.dot(RY_gamma).dot(RZ_delta)"
   ]
  },
  {
   "cell_type": "code",
   "execution_count": null,
   "metadata": {},
   "outputs": [],
   "source": []
  },
  {
   "cell_type": "markdown",
   "metadata": {},
   "source": [
    "### **ClassicalOperations.Two_level_unitary_decomposition(U)**\n",
    "\n",
    "Given U, function returns its two-level unitary decomposition. See Nielsen Chuang p.189\n",
    "\n",
    "Note that U = decomposition_list[0] * ... * decomposition_list[n-1]\n",
    "\n",
    "1. **Parameters**\n",
    "    - U - unitary matrix\n",
    "2. **Returns**:\n",
    "    - decomposition_list - list of matrices such that U = decomposition_list[0] * ... * decomposition_list[n-1]"
   ]
  },
  {
   "cell_type": "code",
   "execution_count": null,
   "metadata": {},
   "outputs": [],
   "source": []
  },
  {
   "cell_type": "code",
   "execution_count": null,
   "metadata": {},
   "outputs": [],
   "source": []
  },
  {
   "cell_type": "code",
   "execution_count": null,
   "metadata": {},
   "outputs": [],
   "source": []
  }
 ],
 "metadata": {
  "kernelspec": {
   "display_name": "Python 3",
   "language": "python",
   "name": "python3"
  },
  "language_info": {
   "codemirror_mode": {
    "name": "ipython",
    "version": 3
   },
   "file_extension": ".py",
   "mimetype": "text/x-python",
   "name": "python",
   "nbconvert_exporter": "python",
   "pygments_lexer": "ipython3",
   "version": "3.7.3"
  }
 },
 "nbformat": 4,
 "nbformat_minor": 2
}
