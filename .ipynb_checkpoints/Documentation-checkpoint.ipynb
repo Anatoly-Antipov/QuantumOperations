{
 "cells": [
  {
   "cell_type": "markdown",
   "metadata": {},
   "source": [
    "# Overview"
   ]
  },
  {
   "cell_type": "markdown",
   "metadata": {},
   "source": [
    "There are 3 classes:\n",
    "\n",
    "**1. ClassicalOperations - auxiliary functions without quantum computations**\n",
    "\n",
    "    - check_matrix()\n",
    "    - states_vector()\n",
    "    - int_to_binary_array()\n",
    "    - get_non_trivial_indices()\n",
    "    - Gray_code()\n",
    "    - gcd()\n",
    "    - diophantine_equation_auxiliary()\n",
    "    - diophantine_equation()\n",
    "    - modular_multiplicative_inverse()\n",
    "    - matrix_power()\n",
    "    - matrix_natural_power()\n",
    "    - ZY_decomposition_angles()\n",
    "    - U_given_ZY_angles()\n",
    "    - Two_level_unitary_decomposition()\n",
    "    - matrix_natural_power()\n",
    "    - ZY_decomposition_angles()\n",
    "    \n",
    "    \n",
    "**2. QuantumGates - functions with quantum computations which are built on pennylane library**\n",
    "\n",
    "    - T_dagger()\n",
    "    - Toffoli()\n",
    "    - Controlled_Toffoli()\n",
    "    - SWAP()\n",
    "    - Controlled_SWAP()\n",
    "    - Controlled_Controlled_SWAP()\n",
    "    - Controlled_register_SWAP()\n",
    "    - Controlled_reset_zero_register_to_N()\n",
    "    - CARRY()\n",
    "    - SUM()\n",
    "    - Controlled_U_block()\n",
    "    - CR_k()\n",
    "    - C_U()\n",
    "    - gray_code_C_X()\n",
    "    - Two_level_U()\n",
    "    - U_n()\n",
    "    - controlled_Two_level_U()\n",
    "    - C_U_n()\n",
    "    - gray_code_C_X()\n",
    "    - Two_level_U()\n",
    "\n",
    "\n",
    "**3. QuantumAlgorithms - higher-level functions with quantum computations which are built on pennylane library**\n",
    "\n",
    "    - U_circuit()\n",
    "    - ADDER\n",
    "    - ADDER_MOD()\n",
    "    - Controlled_MULT_MOD()\n",
    "    - MODULAR_EXPONENTIATION()\n",
    "    - QFT()\n",
    "    - Phase_Estimation()"
   ]
  },
  {
   "cell_type": "markdown",
   "metadata": {},
   "source": [
    "# Example"
   ]
  },
  {
   "cell_type": "markdown",
   "metadata": {},
   "source": [
    "Functions from the class can be used in the same way as elementary gates inside pennylane's QNode structure. The script below implements the following 4-qubit quantum circuit"
   ]
  },
  {
   "cell_type": "code",
   "execution_count": null,
   "metadata": {},
   "outputs": [],
   "source": []
  },
  {
   "cell_type": "code",
   "execution_count": null,
   "metadata": {},
   "outputs": [],
   "source": []
  },
  {
   "cell_type": "markdown",
   "metadata": {},
   "source": [
    "# Documentation"
   ]
  },
  {
   "cell_type": "markdown",
   "metadata": {},
   "source": [
    "## **QuantumAlgorithms.U_n(U, wires)**\n",
    "\n",
    "\n",
    "U_circuit is a realization of arbitrary unitary gate specified by the arbitrary matrix U.\n",
    "\n",
    "Workings of U_circuit() function are motivated by Nielsen, Chuang, chapter 4.5, and can be illustrated by the following scheme:\n",
    "\n",
    "<img src=\"Schemes/Scheme.png\" width=1200 height=1200 />"
   ]
  },
  {
   "cell_type": "markdown",
   "metadata": {},
   "source": [
    "On this scheme,\n",
    "- $\\color{orange}{\\text{orange dotted frame}}$ denotes a gate type which is implemented via one of the functions of the class from the list \"Functions **with quantum computations**\" above\n",
    "- $\\color{blue}{\\text{blue dotted frame}}$ denotes a gate type which is implemented via standard **pennylane library**\n",
    "\n",
    "As one can see, arbitrary unitary gate U is realized by elementary single-qubit rotation operations **RZ, RY, Phase Shift** and two-qubit **CNOT** operation\n",
    "\n",
    "Current **maximal number of qubits** for which operations from the class can be implemented is **6 qubits**. Note that no work qubits are used in any of the functions from the class. It essentially means that, for instance, 6-qubit operation can be performed using only these 6 qubits and no additional work qubits."
   ]
  },
  {
   "cell_type": "markdown",
   "metadata": {},
   "source": [
    "1. **Parameters**\n",
    "    - U - unitary matrix to act on qubits in wires. Current maximal number of gates is 6.\n",
    "2. **Returns**:\n",
    "    - system after U acts on"
   ]
  },
  {
   "cell_type": "code",
   "execution_count": null,
   "metadata": {},
   "outputs": [],
   "source": []
  },
  {
   "cell_type": "markdown",
   "metadata": {},
   "source": [
    "## **QuantumAlgorithms.ADDER(wires_a,wires_b,wires_c,inverse=False)**\n",
    "\n",
    "ADDER is a circuit which implements addition for classical inputs (i.e. 0s or 1s in a qubit registers)\n",
    "\n",
    "Workings of ADDER function are motivated by ‘Quantum Networks for Elementary Arithmetic Operations’ – Vedral, Barenco, Ekert, 1995, and can be illustrated by the following scheme:\n",
    "\n",
    "<img src=\"Schemes/2.png\" width=1200 height=1200 />\n",
    "\n",
    "More elaborate description: https://quantumcomputing.stackexchange.com/questions/6842/is-there-a-simple-formulaic-way-to-construct-a-modular-exponentiation-circuit"
   ]
  },
  {
   "cell_type": "markdown",
   "metadata": {},
   "source": [
    "1. **Parameters**\n",
    "    - wires_a - names for wires of register of \"number\" a to be added\n",
    "    - wires_b - names for wires of register of \"number\" b to be added\n",
    "    - wires_c - names for wires of register of zeros\n",
    "    - inverse - if passed False, then circuit from the scheme is implemented; if passed True, then circuit with inverse order of all elementary operations with respect to the circuit from the scheme is implemented\n",
    "2. **Returns**:\n",
    "    - \"number\" a in register wires_a\n",
    "    - \"number\" a+b in register wires_b\n",
    "    - zeros in register wires_c"
   ]
  },
  {
   "cell_type": "code",
   "execution_count": null,
   "metadata": {},
   "outputs": [],
   "source": []
  },
  {
   "cell_type": "markdown",
   "metadata": {},
   "source": [
    "## **QuantumAlgorithms.ADDER_MOD(wires_a,wires_b,wires_c,wires_N,wires_t,N,inverse=False)**\n",
    "\n",
    "ADDER_MOD is a circuit which implements modular addition for classical inputs (i.e. 0s or 1s in a qubit registers). Circuit works as addition of a and b modulo N only if **0 <= a,b <N**\n",
    "\n",
    "Workings of ADDER_MOD function are motivated by ‘Quantum Networks for Elementary Arithmetic Operations’ – Vedral, Barenco, Ekert, 1995, and can be illustrated by the following scheme:\n",
    "\n",
    "<img src=\"Schemes/3.png\" width=1200 height=1200 />\n",
    "\n",
    "More elaborate description: https://quantumcomputing.stackexchange.com/questions/6842/is-there-a-simple-formulaic-way-to-construct-a-modular-exponentiation-circuit"
   ]
  },
  {
   "cell_type": "markdown",
   "metadata": {},
   "source": [
    "1. **Parameters**\n",
    "    - wires_a - names for wires of register of \"number\" a to be added modulo N\n",
    "    - wires_b - names for wires of register of \"number\" b to be added modulo N\n",
    "    - wires_c - names for wires of register c initialized with zeros\n",
    "    - wires_N - names for wires of register of \"number\" N\n",
    "    - wires_t - name for auxiliary control wire of register t\n",
    "2. **Returns**:\n",
    "    - \"number\" a in register wires_a\n",
    "    - \"number\" a+b mod N in register wires_b\n",
    "    - zeros in register wires_c\n",
    "    - \"number\" N in register wires_N\n",
    "    - zero in register wires_t"
   ]
  },
  {
   "cell_type": "code",
   "execution_count": null,
   "metadata": {},
   "outputs": [],
   "source": []
  },
  {
   "cell_type": "markdown",
   "metadata": {},
   "source": [
    "## **QuantumAlgorithms.Controlled_MULT_MOD(control_wire,wires_z,wires_a,wires_b,wires_c,wires_N,wires_t,N,m,inverse=False)**\n",
    "\n",
    "Controlled_MULT_MOD is a circuit which implements controlled modular multiplication for classical inputs (i.e. 0s or 1s in a qubit registers).\n",
    "\n",
    "Workings of Controlled_MULT_MOD function are motivated by ‘Quantum Networks for Elementary Arithmetic Operations’ – Vedral, Barenco, Ekert, 1995, and can be illustrated by the following scheme:\n",
    "\n",
    "<img src=\"Schemes/4.png\" width=1200 height=1200 />\n",
    "\n",
    "More elaborate description: https://quantumcomputing.stackexchange.com/questions/6842/is-there-a-simple-formulaic-way-to-construct-a-modular-exponentiation-circuit"
   ]
  },
  {
   "cell_type": "markdown",
   "metadata": {},
   "source": [
    "1. **Parameters**\n",
    "    - control_wire - name for control wire\n",
    "    - wires_z - names for wires of register of \"number\" z to be multiplied by m modulo N\n",
    "    - wires_a - names for auxiliary wires of register a initialized with zeros\n",
    "    - wires_b - names for auxiliary wires of register of b initialized with zeros\n",
    "    - wires_c - names for auxiliary wires of register c initialized with zeros\n",
    "    - wires_N - names for wires of register of \"number\" N\n",
    "    - wires_t - name for auxiliary control wire of register t\n",
    "    - N - number \"modulo\"\n",
    "    - m - multiplier\n",
    "    - inverse - if passed False, then circuit from the scheme is implemented; if passed True, then circuit with inverse order of all elementary operations with respect to the circuit from the scheme is implemented\n",
    "2. **Returns**:\n",
    "    - control_wire - initially passed control\n",
    "    - wires_z - initially passed z\n",
    "    - wires_a - initially passed zeros\n",
    "    - wires_b - z*m mod N\n",
    "    - wires_c - initially passed zeros\n",
    "    - wires_N - initially passed N\n",
    "    - wires_t - initially passed auxiliary control\n",
    "    "
   ]
  },
  {
   "cell_type": "code",
   "execution_count": null,
   "metadata": {},
   "outputs": [],
   "source": []
  },
  {
   "cell_type": "markdown",
   "metadata": {},
   "source": [
    "## **QuantumAlgorithms.MODULAR_EXPONENTIATION(wires_x,wires_z,wires_a,wires_b,wires_c,wires_N,wires_t,N,y,inverse=False)**\n",
    "\n",
    "MODULAR_EXPONENTIATION is a circuit which implements effective O(n^3) modular exponentiation for classical inputs (i.e. 0s or 1s in a qubit registers).\n",
    "\n",
    "Workings of MODULAR_EXPONENTIATION function are motivated by ‘Quantum Networks for Elementary Arithmetic Operations’ – Vedral, Barenco, Ekert, 1995, and can be illustrated by the following scheme:\n",
    "\n",
    "<img src=\"Schemes/5.png\" width=1200 height=1200 />\n",
    "\n",
    "More elaborate description: https://quantumcomputing.stackexchange.com/questions/6842/is-there-a-simple-formulaic-way-to-construct-a-modular-exponentiation-circuit"
   ]
  },
  {
   "cell_type": "markdown",
   "metadata": {},
   "source": [
    "1. **Parameters**\n",
    "    - wires_x - name for wires with \"number\" x to be \"number\" y's power\n",
    "    - wires_z - names for wires of register initialized with \"number\" 1\n",
    "    - wires_a - names for auxiliary wires of register a initialized with zeros\n",
    "    - wires_b - names for auxiliary wires of register of b initialized with zeros\n",
    "    - wires_c - names for auxiliary wires of register c initialized with zeros\n",
    "    - wires_N - names for wires of register of \"number\" N\n",
    "    - wires_t - name for auxiliary control wire of register t\n",
    "    - N - number \"modulo\"\n",
    "    - y - number to be exponentiated to the power x\n",
    "    - inverse - if passed False, then circuit from the scheme is implemented; if passed True, then circuit with inverse order of all elementary operations with respect to the circuit from the scheme is implemented\n",
    "2. **Returns**:\n",
    "    - control_x - initially passed x\n",
    "    - wires_z - y^x mod N\n",
    "    - wires_a - initially passed zeros\n",
    "    - wires_b - initially passed zeros\n",
    "    - wires_c - initially passed zeros\n",
    "    - wires_N - initially passed N\n",
    "    - wires_t - initially passed auxiliary control\n",
    "    "
   ]
  },
  {
   "cell_type": "code",
   "execution_count": null,
   "metadata": {},
   "outputs": [],
   "source": []
  },
  {
   "cell_type": "code",
   "execution_count": null,
   "metadata": {},
   "outputs": [],
   "source": []
  },
  {
   "cell_type": "code",
   "execution_count": null,
   "metadata": {},
   "outputs": [],
   "source": []
  }
 ],
 "metadata": {
  "kernelspec": {
   "display_name": "Python 3",
   "language": "python",
   "name": "python3"
  },
  "language_info": {
   "codemirror_mode": {
    "name": "ipython",
    "version": 3
   },
   "file_extension": ".py",
   "mimetype": "text/x-python",
   "name": "python",
   "nbconvert_exporter": "python",
   "pygments_lexer": "ipython3",
   "version": "3.7.3"
  }
 },
 "nbformat": 4,
 "nbformat_minor": 2
}
