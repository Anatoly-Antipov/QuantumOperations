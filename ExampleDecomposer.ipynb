{
 "cells": [
  {
   "cell_type": "code",
   "execution_count": 1,
   "id": "ef4790d3",
   "metadata": {},
   "outputs": [],
   "source": [
    "import QuantumOperations as q\n",
    "import Decomposer as d"
   ]
  },
  {
   "cell_type": "markdown",
   "id": "99cc7b56",
   "metadata": {},
   "source": [
    "## Decompose q.SUM"
   ]
  },
  {
   "cell_type": "code",
   "execution_count": 2,
   "id": "b1ce7dbc",
   "metadata": {},
   "outputs": [],
   "source": [
    "# wires\n",
    "wires=['q0','q1','q2']"
   ]
  },
  {
   "cell_type": "code",
   "execution_count": 3,
   "id": "00702e91",
   "metadata": {},
   "outputs": [
    {
     "data": {
      "text/plain": [
       "[R(0.5, 1.5, 0, wires=['q1']),\n",
       " R(0.5, -1.0, 0, wires=['q1']),\n",
       " IsingXX(1.5707963267948966, wires=['q1', 'q2']),\n",
       " R(1.0, 1.5, 0, wires=['q2']),\n",
       " R(1.0, -1.0, 0, wires=['q2']),\n",
       " R(1.5, 1.5, 0, wires=['q1']),\n",
       " R(1.25, -1.0, 0, wires=['q1']),\n",
       " R(0.5, 1.5, 0, wires=['q0']),\n",
       " R(0.5, -1.0, 0, wires=['q0']),\n",
       " IsingXX(1.5707963267948966, wires=['q0', 'q2']),\n",
       " R(1.0, 1.5, 0, wires=['q2']),\n",
       " R(1.0, -1.0, 0, wires=['q2']),\n",
       " R(1.5, 1.5, 0, wires=['q0']),\n",
       " R(1.25, -1.0, 0, wires=['q0'])]"
      ]
     },
     "execution_count": 3,
     "metadata": {},
     "output_type": "execute_result"
    }
   ],
   "source": [
    "op_list = q.SUM(wires=wires).decomposition(q.SUM(wires=wires).wires)\n",
    "op_list_transpiled = d.transpile(op_list)\n",
    "op_list_transpiled"
   ]
  },
  {
   "cell_type": "code",
   "execution_count": 4,
   "id": "9c2472af",
   "metadata": {},
   "outputs": [
    {
     "data": {
      "text/plain": [
       "14"
      ]
     },
     "execution_count": 4,
     "metadata": {},
     "output_type": "execute_result"
    }
   ],
   "source": [
    "len(op_list_transpiled)"
   ]
  },
  {
   "cell_type": "code",
   "execution_count": null,
   "id": "1dd5c83e",
   "metadata": {},
   "outputs": [],
   "source": []
  },
  {
   "cell_type": "code",
   "execution_count": null,
   "id": "1edd19cd",
   "metadata": {},
   "outputs": [],
   "source": []
  }
 ],
 "metadata": {
  "kernelspec": {
   "display_name": "Python 3 (ipykernel)",
   "language": "python",
   "name": "python3"
  },
  "language_info": {
   "codemirror_mode": {
    "name": "ipython",
    "version": 3
   },
   "file_extension": ".py",
   "mimetype": "text/x-python",
   "name": "python",
   "nbconvert_exporter": "python",
   "pygments_lexer": "ipython3",
   "version": "3.9.7"
  }
 },
 "nbformat": 4,
 "nbformat_minor": 5
}
