{
 "cells": [
  {
   "cell_type": "code",
   "execution_count": 1,
   "id": "ef4790d3",
   "metadata": {},
   "outputs": [],
   "source": [
    "import QuantumOperations as q\n",
    "import Decomposer as d"
   ]
  },
  {
   "cell_type": "markdown",
   "id": "99cc7b56",
   "metadata": {},
   "source": [
    "## Decompose q.SUM"
   ]
  },
  {
   "cell_type": "code",
   "execution_count": 2,
   "id": "b1ce7dbc",
   "metadata": {},
   "outputs": [],
   "source": [
    "# wires\n",
    "wires=['q0','q1','q2']"
   ]
  },
  {
   "cell_type": "code",
   "execution_count": 3,
   "id": "e6d0352c",
   "metadata": {},
   "outputs": [
    {
     "data": {
      "text/plain": [
       "[CNOT(wires=['q1', 'q2']), CNOT(wires=['q0', 'q2'])]"
      ]
     },
     "execution_count": 3,
     "metadata": {},
     "output_type": "execute_result"
    }
   ],
   "source": [
    "op_list = q.SUM(wires=wires).compute_decomposition(q.SUM(wires=wires).wires)\n",
    "op_list"
   ]
  },
  {
   "cell_type": "code",
   "execution_count": 4,
   "id": "00702e91",
   "metadata": {},
   "outputs": [
    {
     "data": {
      "text/plain": [
       "[R([0.5, 1.5, 0], wires=['q1']),\n",
       " R([0.5, -1.0, 0], wires=['q1']),\n",
       " IsingXX(1.5707963267948966, wires=['q1', 'q2']),\n",
       " R([1.0, 1.5, 0], wires=['q2']),\n",
       " R([1.0, -1.0, 0], wires=['q2']),\n",
       " R([1.5, 1.5, 0], wires=['q1']),\n",
       " R([1.25, -1.0, 0], wires=['q1']),\n",
       " R([0.5, 1.5, 0], wires=['q0']),\n",
       " R([0.5, -1.0, 0], wires=['q0']),\n",
       " IsingXX(1.5707963267948966, wires=['q0', 'q2']),\n",
       " R([1.0, 1.5, 0], wires=['q2']),\n",
       " R([1.0, -1.0, 0], wires=['q2']),\n",
       " R([1.5, 1.5, 0], wires=['q0']),\n",
       " R([1.25, -1.0, 0], wires=['q0'])]"
      ]
     },
     "execution_count": 4,
     "metadata": {},
     "output_type": "execute_result"
    }
   ],
   "source": [
    "op_list_transpiled = d.transpile(op_list)\n",
    "op_list_transpiled"
   ]
  },
  {
   "cell_type": "code",
   "execution_count": 5,
   "id": "9c2472af",
   "metadata": {},
   "outputs": [
    {
     "data": {
      "text/plain": [
       "14"
      ]
     },
     "execution_count": 5,
     "metadata": {},
     "output_type": "execute_result"
    }
   ],
   "source": [
    "len(op_list_transpiled)"
   ]
  },
  {
   "cell_type": "code",
   "execution_count": null,
   "id": "b319e6a5",
   "metadata": {},
   "outputs": [],
   "source": []
  },
  {
   "cell_type": "markdown",
   "id": "55a6afee",
   "metadata": {},
   "source": [
    "## Decompose qml.Hadamard"
   ]
  },
  {
   "cell_type": "code",
   "execution_count": 6,
   "id": "29b6e90a",
   "metadata": {},
   "outputs": [],
   "source": [
    "import pennylane as qml"
   ]
  },
  {
   "cell_type": "code",
   "execution_count": 7,
   "id": "d4af1486",
   "metadata": {},
   "outputs": [],
   "source": [
    "# wires\n",
    "wires=['q0']"
   ]
  },
  {
   "cell_type": "code",
   "execution_count": 8,
   "id": "bd876736",
   "metadata": {},
   "outputs": [
    {
     "data": {
      "text/plain": [
       "[R([-0.5, 1.5, 0], wires=['q0']), R([0.0, -1.0, 0], wires=['q0'])]"
      ]
     },
     "execution_count": 8,
     "metadata": {},
     "output_type": "execute_result"
    }
   ],
   "source": [
    "op_list = qml.Hadamard(wires=wires).decomposition()\n",
    "op_list_transpiled = d.transpile(op_list)\n",
    "op_list_transpiled"
   ]
  },
  {
   "cell_type": "code",
   "execution_count": 9,
   "id": "584016b3",
   "metadata": {},
   "outputs": [
    {
     "data": {
      "text/plain": [
       "array([[ 1.+3.30854888e-41j,  1.+6.12323401e-17j],\n",
       "       [ 1.-6.12323401e-17j, -1.+3.48630560e-32j]])"
      ]
     },
     "execution_count": 9,
     "metadata": {},
     "output_type": "execute_result"
    }
   ],
   "source": [
    "# decomposition is equalent to Hadamard up to a global phase\n",
    "q.R([0.0, -1.0, 0], wires=['q0']).matrix().dot(q.R([-0.5, 1.5, 0], wires=['q0']).matrix())/(1.23259516e-32-0.70710678j)"
   ]
  },
  {
   "cell_type": "code",
   "execution_count": null,
   "id": "dab78d96",
   "metadata": {},
   "outputs": [],
   "source": []
  },
  {
   "cell_type": "code",
   "execution_count": null,
   "id": "d974dcb6",
   "metadata": {},
   "outputs": [],
   "source": []
  }
 ],
 "metadata": {
  "kernelspec": {
   "display_name": "Python 3 (ipykernel)",
   "language": "python",
   "name": "python3"
  },
  "language_info": {
   "codemirror_mode": {
    "name": "ipython",
    "version": 3
   },
   "file_extension": ".py",
   "mimetype": "text/x-python",
   "name": "python",
   "nbconvert_exporter": "python",
   "pygments_lexer": "ipython3",
   "version": "3.9.7"
  }
 },
 "nbformat": 4,
 "nbformat_minor": 5
}
