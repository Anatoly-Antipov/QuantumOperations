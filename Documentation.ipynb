{
 "cells": [
  {
   "cell_type": "markdown",
   "metadata": {},
   "source": [
    "# Overview"
   ]
  },
  {
   "cell_type": "markdown",
   "metadata": {},
   "source": [
    "Class contains two types of functions:\n",
    "\n",
    "1. Auxiliary functions **without quantum computations** including\n",
    "\n",
    "    - states_vector()\n",
    "    - Gray_code()\n",
    "    - matrix_power()\n",
    "    - ZY_decomposition_angles()\n",
    "    - U_given_ZY_angles()\n",
    "    - Two_level_unitary_decomposition()\n",
    "    \n",
    "2. Functions **with quantum computations** which are built on **pennylane library** including\n",
    "\n",
    "    - Controlled_U_block()\n",
    "    - C_U()\n",
    "    - gray_code_C_X()\n",
    "    - Two_level_U()\n",
    "    - U_circuit()\n",
    "\n",
    "The main functionality of the class is incorporated into the function U_circuit() which is essentially a realization of arbitrary unitary gate specified by the arbitrary matrix U.\n",
    "\n",
    "Workings of U_circuit() function are motivated by Nielsen, Chuang, chapter 4.5, and can be illustrated by the following scheme:\n",
    "\n",
    "<img src=\"Scheme.png\" width=1200 height=1200 />"
   ]
  },
  {
   "cell_type": "markdown",
   "metadata": {},
   "source": [
    "On this scheme,\n",
    "- $\\color{orange}{\\text{orange dotted frame}}$ denotes a gate type which is implemented via one of the functions of the class from the list \"Functions **with quantum computations**\" above\n",
    "- $\\color{blue}{\\text{blue dotted frame}}$ denotes a gate type which is implemented via standard **pennylane library**\n",
    "\n",
    "As one can see, arbitrary unitary gate U is realized by elementary single-qubit rotation operations **RZ, RY, Phase Shift** and two-qubit **CNOT** operation\n",
    "\n",
    "Current **maximal number of qubits** for which operations from the class can be implemented is **6 qubits**. Note that no work qubits are used in any of the functions from the class. It essentially means that, for instance, 6-qubit operation can be performed using only these 6 qubits and no additional work qubits."
   ]
  },
  {
   "cell_type": "markdown",
   "metadata": {},
   "source": [
    "# Example"
   ]
  },
  {
   "cell_type": "markdown",
   "metadata": {},
   "source": [
    "Functions from the class can be used in the same way as elementary gates inside pennylane's QNode structure. The script below implements the following 4-qubit quantum circuit"
   ]
  },
  {
   "cell_type": "code",
   "execution_count": null,
   "metadata": {},
   "outputs": [],
   "source": []
  },
  {
   "cell_type": "markdown",
   "metadata": {},
   "source": [
    "# Performance"
   ]
  },
  {
   "cell_type": "code",
   "execution_count": null,
   "metadata": {},
   "outputs": [],
   "source": []
  },
  {
   "cell_type": "code",
   "execution_count": null,
   "metadata": {},
   "outputs": [],
   "source": []
  },
  {
   "cell_type": "markdown",
   "metadata": {},
   "source": [
    "# Documentation"
   ]
  },
  {
   "cell_type": "markdown",
   "metadata": {},
   "source": [
    "**function(a,b)**\n",
    "\n",
    "More or less plausible description \n",
    "\n",
    "1. **Parameters**\n",
    "    - a = a\n",
    "    - b = b\n",
    "2. **Returns**: cash\n",
    "\n",
    "**Example**"
   ]
  },
  {
   "cell_type": "code",
   "execution_count": null,
   "metadata": {},
   "outputs": [],
   "source": [
    "import my_class\n",
    "\n",
    "c = my_class()\n",
    "\n",
    "a = 0\n",
    "b = 1\n",
    "\n",
    "c.function(a,b)"
   ]
  },
  {
   "cell_type": "code",
   "execution_count": null,
   "metadata": {},
   "outputs": [],
   "source": []
  },
  {
   "cell_type": "markdown",
   "metadata": {},
   "source": [
    "**function(a,b)**\n",
    "\n",
    "More or less plausible description \n",
    "\n",
    "1. **Parameters**\n",
    "    - a = a\n",
    "    - b = b\n",
    "2. **Returns**: cash\n",
    "\n",
    "**Example**"
   ]
  },
  {
   "cell_type": "code",
   "execution_count": null,
   "metadata": {},
   "outputs": [],
   "source": [
    "import my_class\n",
    "\n",
    "c = my_class()\n",
    "\n",
    "a = 0\n",
    "b = 1\n",
    "\n",
    "c.function(a,b)"
   ]
  },
  {
   "cell_type": "markdown",
   "metadata": {},
   "source": [
    "**function(a,b)**\n",
    "\n",
    "More or less plausible description \n",
    "\n",
    "1. **Parameters**\n",
    "    - a = a\n",
    "    - b = b\n",
    "2. **Returns**: cash\n",
    "\n",
    "**Example**"
   ]
  },
  {
   "cell_type": "code",
   "execution_count": null,
   "metadata": {},
   "outputs": [],
   "source": [
    "import my_class\n",
    "\n",
    "c = my_class()\n",
    "\n",
    "a = 0\n",
    "b = 1\n",
    "\n",
    "c.function(a,b)"
   ]
  },
  {
   "cell_type": "code",
   "execution_count": null,
   "metadata": {},
   "outputs": [],
   "source": []
  }
 ],
 "metadata": {
  "kernelspec": {
   "display_name": "Python 3",
   "language": "python",
   "name": "python3"
  },
  "language_info": {
   "codemirror_mode": {
    "name": "ipython",
    "version": 3
   },
   "file_extension": ".py",
   "mimetype": "text/x-python",
   "name": "python",
   "nbconvert_exporter": "python",
   "pygments_lexer": "ipython3",
   "version": "3.7.3"
  }
 },
 "nbformat": 4,
 "nbformat_minor": 2
}
