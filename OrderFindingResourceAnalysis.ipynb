{
 "cells": [
  {
   "cell_type": "code",
   "execution_count": 1,
   "id": "ef4790d3",
   "metadata": {},
   "outputs": [],
   "source": [
    "import numpy as np\n",
    "import datetime\n",
    "\n",
    "import pennylane as qml\n",
    "\n",
    "import QuantumOperations as q\n",
    "import Decomposer as d"
   ]
  },
  {
   "cell_type": "code",
   "execution_count": null,
   "id": "b90a7761",
   "metadata": {},
   "outputs": [],
   "source": []
  },
  {
   "cell_type": "markdown",
   "id": "7335328e",
   "metadata": {},
   "source": [
    "## Demo"
   ]
  },
  {
   "cell_type": "code",
   "execution_count": 2,
   "id": "5e3e0654",
   "metadata": {},
   "outputs": [
    {
     "name": "stdout",
     "output_type": "stream",
     "text": [
      "23941\n",
      "2q 5010\n",
      "0:00:04.296559\n"
     ]
    }
   ],
   "source": [
    "start = datetime.datetime.now()\n",
    "\n",
    "# get the list of traspiled operations for ADDER_MOD\n",
    "\n",
    "bits_for_register_with_a_number = 2\n",
    "bits_for_x_register = 2*bits_for_register_with_a_number + 2\n",
    "N = 2\n",
    "y = 3\n",
    "\n",
    "# wires\n",
    "wires=[i for i in range(bits_for_x_register+bits_for_register_with_a_number*5+2)]\n",
    "\n",
    "# initial list of operatoins\n",
    "op_list = q.Order_Finding(N,y,bits_for_x_register,wires=wires).decomposition()\n",
    "# transpiled list of operatoins\n",
    "op_list_transpiled = d.transpile(op_list)\n",
    "print(len(op_list_transpiled))\n",
    "print('2q',sum([type(op) == qml.IsingXX for op in op_list_transpiled]))\n",
    "\n",
    "end = datetime.datetime.now()\n",
    "print(end-start)"
   ]
  },
  {
   "cell_type": "code",
   "execution_count": 3,
   "id": "d61a0de0",
   "metadata": {},
   "outputs": [
    {
     "name": "stdout",
     "output_type": "stream",
     "text": [
      "levels 3808\n",
      "mean number of 2q operations per level 1.3156512605042017\n",
      "max number of 2q operations per level 9.0\n",
      "0:00:00.017002\n"
     ]
    }
   ],
   "source": [
    "# circuit time\n",
    "start = datetime.datetime.now()\n",
    "\n",
    "res = d.levels(wires, op_list_transpiled)\n",
    "print('levels', res)\n",
    "print('mean number of 2q operations per level', sum([type(op) == qml.IsingXX for op in op_list_transpiled])/res)\n",
    "print('max number of 2q operations per level', len(wires)/2)\n",
    "\n",
    "end = datetime.datetime.now()\n",
    "print(end-start)"
   ]
  },
  {
   "cell_type": "code",
   "execution_count": null,
   "id": "df652e45",
   "metadata": {},
   "outputs": [],
   "source": []
  },
  {
   "cell_type": "code",
   "execution_count": 4,
   "id": "dee3aa49",
   "metadata": {},
   "outputs": [
    {
     "name": "stdout",
     "output_type": "stream",
     "text": [
      "77054\n",
      "2q 16152\n",
      "0:00:17.337090\n"
     ]
    }
   ],
   "source": [
    "start = datetime.datetime.now()\n",
    "\n",
    "# get the list of traspiled operations for ADDER_MOD\n",
    "\n",
    "bits_for_register_with_a_number = 3\n",
    "bits_for_x_register = 2*bits_for_register_with_a_number + 2\n",
    "N = 5\n",
    "y = 3\n",
    "\n",
    "# wires\n",
    "wires=[i for i in range(bits_for_x_register+bits_for_register_with_a_number*5+2)]\n",
    "\n",
    "# initial list of operatoins\n",
    "op_list = q.Order_Finding(N,y,bits_for_x_register,wires=wires).decomposition()\n",
    "# transpiled list of operatoins\n",
    "op_list_transpiled = d.transpile(op_list)\n",
    "print(len(op_list_transpiled))\n",
    "print('2q',sum([type(op) == qml.IsingXX for op in op_list_transpiled]))\n",
    "\n",
    "end = datetime.datetime.now()\n",
    "print(end-start)"
   ]
  },
  {
   "cell_type": "code",
   "execution_count": 5,
   "id": "1193dd30",
   "metadata": {},
   "outputs": [
    {
     "name": "stdout",
     "output_type": "stream",
     "text": [
      "levels 11440\n",
      "mean number of 2q operations per level 1.411888111888112\n",
      "max number of 2q operations per level 12.5\n",
      "0:00:00.048009\n"
     ]
    }
   ],
   "source": [
    "# circuit time\n",
    "start = datetime.datetime.now()\n",
    "\n",
    "res = d.levels(wires, op_list_transpiled)\n",
    "print('levels', res)\n",
    "print('mean number of 2q operations per level', sum([type(op) == qml.IsingXX for op in op_list_transpiled])/res)\n",
    "print('max number of 2q operations per level', len(wires)/2)\n",
    "\n",
    "end = datetime.datetime.now()\n",
    "print(end-start)"
   ]
  },
  {
   "cell_type": "code",
   "execution_count": null,
   "id": "bf55fdb2",
   "metadata": {},
   "outputs": [],
   "source": []
  },
  {
   "cell_type": "code",
   "execution_count": 6,
   "id": "35a4c91b",
   "metadata": {},
   "outputs": [
    {
     "name": "stdout",
     "output_type": "stream",
     "text": [
      "174649\n",
      "2q 36650\n",
      "0:00:53.774770\n"
     ]
    }
   ],
   "source": [
    "start = datetime.datetime.now()\n",
    "\n",
    "# get the list of traspiled operations for ADDER_MOD\n",
    "\n",
    "bits_for_register_with_a_number = 4\n",
    "bits_for_x_register = 2*bits_for_register_with_a_number + 2\n",
    "N = 5\n",
    "y = 3\n",
    "\n",
    "# wires\n",
    "wires=[i for i in range(bits_for_x_register+bits_for_register_with_a_number*5+2)]\n",
    "\n",
    "# initial list of operatoins\n",
    "op_list = q.Order_Finding(N,y,bits_for_x_register,wires=wires).decomposition()\n",
    "# transpiled list of operatoins\n",
    "op_list_transpiled = d.transpile(op_list)\n",
    "print(len(op_list_transpiled))\n",
    "print('2q',sum([type(op) == qml.IsingXX for op in op_list_transpiled]))\n",
    "\n",
    "end = datetime.datetime.now()\n",
    "print(end-start)"
   ]
  },
  {
   "cell_type": "code",
   "execution_count": 7,
   "id": "0cdd2b98",
   "metadata": {},
   "outputs": [
    {
     "name": "stdout",
     "output_type": "stream",
     "text": [
      "levels 25648\n",
      "mean number of 2q operations per level 1.4289613225202744\n",
      "max number of 2q operations per level 16.0\n",
      "0:00:00.117034\n"
     ]
    }
   ],
   "source": [
    "# circuit time\n",
    "start = datetime.datetime.now()\n",
    "\n",
    "res = d.levels(wires, op_list_transpiled)\n",
    "print('levels', res)\n",
    "print('mean number of 2q operations per level', sum([type(op) == qml.IsingXX for op in op_list_transpiled])/res)\n",
    "print('max number of 2q operations per level', len(wires)/2)\n",
    "\n",
    "end = datetime.datetime.now()\n",
    "print(end-start)"
   ]
  },
  {
   "cell_type": "code",
   "execution_count": null,
   "id": "9b78b1fd",
   "metadata": {},
   "outputs": [],
   "source": []
  },
  {
   "cell_type": "code",
   "execution_count": 8,
   "id": "3295530f",
   "metadata": {},
   "outputs": [
    {
     "name": "stdout",
     "output_type": "stream",
     "text": [
      "340520\n",
      "2q 71452\n",
      "0:02:23.602114\n"
     ]
    }
   ],
   "source": [
    "start = datetime.datetime.now()\n",
    "\n",
    "# get the list of traspiled operations for ADDER_MOD\n",
    "\n",
    "bits_for_register_with_a_number = 5\n",
    "bits_for_x_register = 2*bits_for_register_with_a_number + 2\n",
    "N = 29\n",
    "y = 3\n",
    "\n",
    "# wires\n",
    "wires=[i for i in range(bits_for_x_register+bits_for_register_with_a_number*5+2)]\n",
    "\n",
    "# initial list of operatoins\n",
    "op_list = q.Order_Finding(N,y,bits_for_x_register,wires=wires).decomposition()\n",
    "# transpiled list of operatoins\n",
    "op_list_transpiled = d.transpile(op_list)\n",
    "print(len(op_list_transpiled))\n",
    "print('2q',sum([type(op) == qml.IsingXX for op in op_list_transpiled]))\n",
    "\n",
    "end = datetime.datetime.now()\n",
    "print(end-start)"
   ]
  },
  {
   "cell_type": "code",
   "execution_count": 9,
   "id": "75f717d3",
   "metadata": {},
   "outputs": [
    {
     "name": "stdout",
     "output_type": "stream",
     "text": [
      "levels 48615\n",
      "mean number of 2q operations per level 1.469752134114985\n",
      "max number of 2q operations per level 19.5\n",
      "0:00:00.219049\n"
     ]
    }
   ],
   "source": [
    "# circuit time\n",
    "start = datetime.datetime.now()\n",
    "\n",
    "res = d.levels(wires, op_list_transpiled)\n",
    "print('levels', res)\n",
    "print('mean number of 2q operations per level', sum([type(op) == qml.IsingXX for op in op_list_transpiled])/res)\n",
    "print('max number of 2q operations per level', len(wires)/2)\n",
    "\n",
    "end = datetime.datetime.now()\n",
    "print(end-start)"
   ]
  },
  {
   "cell_type": "code",
   "execution_count": null,
   "id": "274d6e59",
   "metadata": {},
   "outputs": [],
   "source": []
  },
  {
   "cell_type": "code",
   "execution_count": null,
   "id": "79740c42",
   "metadata": {},
   "outputs": [],
   "source": []
  }
 ],
 "metadata": {
  "kernelspec": {
   "display_name": "Python 3 (ipykernel)",
   "language": "python",
   "name": "python3"
  },
  "language_info": {
   "codemirror_mode": {
    "name": "ipython",
    "version": 3
   },
   "file_extension": ".py",
   "mimetype": "text/x-python",
   "name": "python",
   "nbconvert_exporter": "python",
   "pygments_lexer": "ipython3",
   "version": "3.9.7"
  }
 },
 "nbformat": 4,
 "nbformat_minor": 5
}
