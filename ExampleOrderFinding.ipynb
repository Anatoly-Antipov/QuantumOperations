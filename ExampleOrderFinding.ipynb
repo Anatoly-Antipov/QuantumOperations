{
 "cells": [
  {
   "cell_type": "code",
   "execution_count": 1,
   "id": "f9e0eb11",
   "metadata": {},
   "outputs": [],
   "source": [
    "import pennylane as qml\n",
    "import QuantumOperations as q\n",
    "\n",
    "# define initial parameters\n",
    "N = 5\n",
    "y = 3\n",
    "bits_for_register_with_a_number = 3\n",
    "bits_for_x_register = 2*bits_for_register_with_a_number + 2\n",
    "\n",
    "# define wires with all registers\n",
    "wires=[i for i in range(bits_for_x_register+bits_for_register_with_a_number*5+2)]\n",
    "\n",
    "# device\n",
    "dev = qml.device('default.qubit', wires=wires, shots=10000, analytic=None)\n",
    "\n",
    "# circuit\n",
    "def func(N,y,bits_for_x_register,input_):\n",
    "    \n",
    "    # insert input\n",
    "    for i in range(len(wires)):\n",
    "        if input_[i] == 1:\n",
    "            qml.PauliX(wires=wires[i])\n",
    "    \n",
    "    # circuit\n",
    "    q.Order_Finding(N,y,bits_for_x_register,wires=wires)\n",
    "    \n",
    "    return qml.probs(wires=[0,1,2,3,4,5,6,7])\n",
    "\n",
    "# QNode\n",
    "circuit = qml.QNode(func,dev)\n",
    "\n",
    "# Run calculations for given parameters with the register wires_N initialized as binary N and register wires_z - as binary 1\n",
    "measurements_probabilities = circuit(5,3,bits_for_x_register,[0,0,0,0,0,0,0,0] + [1,0,0] + [0,0,0] + [0,0,0,0] + [0,0,0] + [1,0,1] + [0])"
   ]
  },
  {
   "cell_type": "code",
   "execution_count": null,
   "id": "eba0c5d8",
   "metadata": {},
   "outputs": [],
   "source": []
  }
 ],
 "metadata": {
  "kernelspec": {
   "display_name": "Python 3 (ipykernel)",
   "language": "python",
   "name": "python3"
  },
  "language_info": {
   "codemirror_mode": {
    "name": "ipython",
    "version": 3
   },
   "file_extension": ".py",
   "mimetype": "text/x-python",
   "name": "python",
   "nbconvert_exporter": "python",
   "pygments_lexer": "ipython3",
   "version": "3.9.7"
  }
 },
 "nbformat": 4,
 "nbformat_minor": 5
}
