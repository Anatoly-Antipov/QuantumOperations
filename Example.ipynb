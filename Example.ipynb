{
 "cells": [
  {
   "cell_type": "code",
   "execution_count": 1,
   "id": "85d00a8d",
   "metadata": {
    "scrolled": true
   },
   "outputs": [],
   "source": [
    "import pennylane as qml\n",
    "import QuantumOperations as q"
   ]
  },
  {
   "cell_type": "code",
   "execution_count": 2,
   "id": "306f530f",
   "metadata": {},
   "outputs": [],
   "source": [
    "# wires\n",
    "wires =[0,1,2]\n",
    "# device\n",
    "dev = qml.device('default.qubit',wires=wires,shots=1000,analytic=None)\n",
    "\n",
    "# circuit\n",
    "def func():\n",
    "    # use standard PennyLane's gate\n",
    "    qml.PauliX(wires=wires[0])\n",
    "    # use SUM gate\n",
    "    q.SUM(wires=wires)\n",
    "    return qml.probs(wires)\n",
    "\n",
    "# QNode\n",
    "circuit = qml.QNode(func ,dev)"
   ]
  },
  {
   "cell_type": "code",
   "execution_count": 3,
   "id": "5d88e45e",
   "metadata": {
    "scrolled": true
   },
   "outputs": [
    {
     "data": {
      "text/plain": [
       "tensor([0., 0., 0., 0., 0., 1., 0., 0.], requires_grad=True)"
      ]
     },
     "execution_count": 3,
     "metadata": {},
     "output_type": "execute_result"
    }
   ],
   "source": [
    "# the circuit transforms |000> to |101>\n",
    "circuit()"
   ]
  },
  {
   "cell_type": "code",
   "execution_count": null,
   "id": "92579b24",
   "metadata": {},
   "outputs": [],
   "source": []
  },
  {
   "cell_type": "code",
   "execution_count": null,
   "id": "511c5d75",
   "metadata": {},
   "outputs": [],
   "source": []
  }
 ],
 "metadata": {
  "kernelspec": {
   "display_name": "Python 3 (ipykernel)",
   "language": "python",
   "name": "python3"
  },
  "language_info": {
   "codemirror_mode": {
    "name": "ipython",
    "version": 3
   },
   "file_extension": ".py",
   "mimetype": "text/x-python",
   "name": "python",
   "nbconvert_exporter": "python",
   "pygments_lexer": "ipython3",
   "version": "3.9.7"
  }
 },
 "nbformat": 4,
 "nbformat_minor": 5
}
